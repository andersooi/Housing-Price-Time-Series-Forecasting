{
 "cells": [
  {
   "cell_type": "markdown",
   "metadata": {},
   "source": [
    "### Getting the number of MRT stations within 1km radius of HDB flat"
   ]
  },
  {
   "cell_type": "markdown",
   "metadata": {},
   "source": [
    "We will first load the `hdb_cleaned_data.csv` file"
   ]
  },
  {
   "cell_type": "code",
   "execution_count": 1,
   "metadata": {},
   "outputs": [
    {
     "data": {
      "text/html": [
       "<div>\n",
       "<style scoped>\n",
       "    .dataframe tbody tr th:only-of-type {\n",
       "        vertical-align: middle;\n",
       "    }\n",
       "\n",
       "    .dataframe tbody tr th {\n",
       "        vertical-align: top;\n",
       "    }\n",
       "\n",
       "    .dataframe thead th {\n",
       "        text-align: right;\n",
       "    }\n",
       "</style>\n",
       "<table border=\"1\" class=\"dataframe\">\n",
       "  <thead>\n",
       "    <tr style=\"text-align: right;\">\n",
       "      <th></th>\n",
       "      <th>Unnamed: 0</th>\n",
       "      <th>month</th>\n",
       "      <th>town</th>\n",
       "      <th>flat_type</th>\n",
       "      <th>block</th>\n",
       "      <th>street_name</th>\n",
       "      <th>storey_range</th>\n",
       "      <th>floor_area_sqm</th>\n",
       "      <th>flat_model</th>\n",
       "      <th>lease_commence_date</th>\n",
       "      <th>remaining_lease</th>\n",
       "      <th>resale_price</th>\n",
       "      <th>address</th>\n",
       "    </tr>\n",
       "  </thead>\n",
       "  <tbody>\n",
       "    <tr>\n",
       "      <th>0</th>\n",
       "      <td>0</td>\n",
       "      <td>2015-01</td>\n",
       "      <td>ANG MO KIO</td>\n",
       "      <td>3 ROOM</td>\n",
       "      <td>174</td>\n",
       "      <td>ANG MO KIO AVE 4</td>\n",
       "      <td>07 TO 09</td>\n",
       "      <td>60.0</td>\n",
       "      <td>Improved</td>\n",
       "      <td>1986</td>\n",
       "      <td>70</td>\n",
       "      <td>255000.0</td>\n",
       "      <td>174 ANG MO KIO AVE 4</td>\n",
       "    </tr>\n",
       "    <tr>\n",
       "      <th>1</th>\n",
       "      <td>1</td>\n",
       "      <td>2015-01</td>\n",
       "      <td>ANG MO KIO</td>\n",
       "      <td>3 ROOM</td>\n",
       "      <td>541</td>\n",
       "      <td>ANG MO KIO AVE 10</td>\n",
       "      <td>01 TO 03</td>\n",
       "      <td>68.0</td>\n",
       "      <td>New Generation</td>\n",
       "      <td>1981</td>\n",
       "      <td>65</td>\n",
       "      <td>275000.0</td>\n",
       "      <td>541 ANG MO KIO AVE 10</td>\n",
       "    </tr>\n",
       "    <tr>\n",
       "      <th>2</th>\n",
       "      <td>2</td>\n",
       "      <td>2015-01</td>\n",
       "      <td>ANG MO KIO</td>\n",
       "      <td>3 ROOM</td>\n",
       "      <td>163</td>\n",
       "      <td>ANG MO KIO AVE 4</td>\n",
       "      <td>01 TO 03</td>\n",
       "      <td>69.0</td>\n",
       "      <td>New Generation</td>\n",
       "      <td>1980</td>\n",
       "      <td>64</td>\n",
       "      <td>285000.0</td>\n",
       "      <td>163 ANG MO KIO AVE 4</td>\n",
       "    </tr>\n",
       "    <tr>\n",
       "      <th>3</th>\n",
       "      <td>3</td>\n",
       "      <td>2015-01</td>\n",
       "      <td>ANG MO KIO</td>\n",
       "      <td>3 ROOM</td>\n",
       "      <td>446</td>\n",
       "      <td>ANG MO KIO AVE 10</td>\n",
       "      <td>01 TO 03</td>\n",
       "      <td>68.0</td>\n",
       "      <td>New Generation</td>\n",
       "      <td>1979</td>\n",
       "      <td>63</td>\n",
       "      <td>290000.0</td>\n",
       "      <td>446 ANG MO KIO AVE 10</td>\n",
       "    </tr>\n",
       "    <tr>\n",
       "      <th>4</th>\n",
       "      <td>4</td>\n",
       "      <td>2015-01</td>\n",
       "      <td>ANG MO KIO</td>\n",
       "      <td>3 ROOM</td>\n",
       "      <td>557</td>\n",
       "      <td>ANG MO KIO AVE 10</td>\n",
       "      <td>07 TO 09</td>\n",
       "      <td>68.0</td>\n",
       "      <td>New Generation</td>\n",
       "      <td>1980</td>\n",
       "      <td>64</td>\n",
       "      <td>290000.0</td>\n",
       "      <td>557 ANG MO KIO AVE 10</td>\n",
       "    </tr>\n",
       "  </tbody>\n",
       "</table>\n",
       "</div>"
      ],
      "text/plain": [
       "   Unnamed: 0    month        town flat_type block        street_name  \\\n",
       "0           0  2015-01  ANG MO KIO    3 ROOM   174   ANG MO KIO AVE 4   \n",
       "1           1  2015-01  ANG MO KIO    3 ROOM   541  ANG MO KIO AVE 10   \n",
       "2           2  2015-01  ANG MO KIO    3 ROOM   163   ANG MO KIO AVE 4   \n",
       "3           3  2015-01  ANG MO KIO    3 ROOM   446  ANG MO KIO AVE 10   \n",
       "4           4  2015-01  ANG MO KIO    3 ROOM   557  ANG MO KIO AVE 10   \n",
       "\n",
       "  storey_range  floor_area_sqm      flat_model  lease_commence_date  \\\n",
       "0     07 TO 09            60.0        Improved                 1986   \n",
       "1     01 TO 03            68.0  New Generation                 1981   \n",
       "2     01 TO 03            69.0  New Generation                 1980   \n",
       "3     01 TO 03            68.0  New Generation                 1979   \n",
       "4     07 TO 09            68.0  New Generation                 1980   \n",
       "\n",
       "   remaining_lease  resale_price                address  \n",
       "0               70      255000.0   174 ANG MO KIO AVE 4  \n",
       "1               65      275000.0  541 ANG MO KIO AVE 10  \n",
       "2               64      285000.0   163 ANG MO KIO AVE 4  \n",
       "3               63      290000.0  446 ANG MO KIO AVE 10  \n",
       "4               64      290000.0  557 ANG MO KIO AVE 10  "
      ]
     },
     "execution_count": 1,
     "metadata": {},
     "output_type": "execute_result"
    }
   ],
   "source": [
    "import sys\n",
    "sys.path.append('../')\n",
    "\n",
    "import pandas as pd\n",
    "from api.openrouteservice_api import Coordinate, get_distance_between_two_coordinates\n",
    "from datetime import datetime\n",
    "\n",
    "hdb_cleaned_df = pd.read_csv('../data/modified/hdb_cleaned_data.csv')\n",
    "hdb_cleaned_df.head()"
   ]
  },
  {
   "cell_type": "markdown",
   "metadata": {},
   "source": [
    "Then we  loading `hdb_coordinates.csv` to create a dictionary with key as `addresss` and values as a list of `latitude` and `longtitude`"
   ]
  },
  {
   "cell_type": "code",
   "execution_count": 2,
   "metadata": {},
   "outputs": [
    {
     "name": "stdout",
     "output_type": "stream",
     "text": [
      "{'174 ANG MO KIO AVE 4': [0.0, 1.37509746867904, 103.83761896123], '541 ANG MO KIO AVE 10': [1.0, 1.37392238703482, 103.855621370524], '163 ANG MO KIO AVE 4': [2.0, 1.37354853919927, 103.838176471398], '446 ANG MO KIO AVE 10': [3.0, 1.36776094720351, 103.85535715026], '557 ANG MO KIO AVE 10': [4.0, 1.3716257020332, 103.857736107527]}\n"
     ]
    }
   ],
   "source": [
    "hdb_coordinates_df = pd.read_csv('../data/modified/hdb_coordinates.csv')\n",
    "# convert df into a dictionary with key as address and values as a list of coordinates\n",
    "hdb_coordinates = hdb_coordinates_df.set_index('address').T.to_dict('list')\n",
    "# check if dictionary is correct - display first five\n",
    "print({k: hdb_coordinates[k] for k in list(hdb_coordinates)[:5]})"
   ]
  },
  {
   "cell_type": "markdown",
   "metadata": {},
   "source": [
    "Then we load the `mrt_stations_opened` dataset"
   ]
  },
  {
   "cell_type": "code",
   "execution_count": 3,
   "metadata": {},
   "outputs": [
    {
     "data": {
      "text/html": [
       "<div>\n",
       "<style scoped>\n",
       "    .dataframe tbody tr th:only-of-type {\n",
       "        vertical-align: middle;\n",
       "    }\n",
       "\n",
       "    .dataframe tbody tr th {\n",
       "        vertical-align: top;\n",
       "    }\n",
       "\n",
       "    .dataframe thead th {\n",
       "        text-align: right;\n",
       "    }\n",
       "</style>\n",
       "<table border=\"1\" class=\"dataframe\">\n",
       "  <thead>\n",
       "    <tr style=\"text-align: right;\">\n",
       "      <th></th>\n",
       "      <th>mrt_station_name</th>\n",
       "      <th>latitude</th>\n",
       "      <th>longtitude</th>\n",
       "      <th>opening_date</th>\n",
       "    </tr>\n",
       "  </thead>\n",
       "  <tbody>\n",
       "    <tr>\n",
       "      <th>0</th>\n",
       "      <td>Jurong East MRT Station</td>\n",
       "      <td>1.333333</td>\n",
       "      <td>103.742222</td>\n",
       "      <td>5 November 1988</td>\n",
       "    </tr>\n",
       "    <tr>\n",
       "      <th>1</th>\n",
       "      <td>Bukit Batok MRT Station</td>\n",
       "      <td>1.349167</td>\n",
       "      <td>103.749722</td>\n",
       "      <td>10 March 1990</td>\n",
       "    </tr>\n",
       "    <tr>\n",
       "      <th>2</th>\n",
       "      <td>Bukit Gombak MRT Station</td>\n",
       "      <td>1.358611</td>\n",
       "      <td>103.751667</td>\n",
       "      <td>10 March 1990</td>\n",
       "    </tr>\n",
       "    <tr>\n",
       "      <th>3</th>\n",
       "      <td>Yew Tee MRT Station</td>\n",
       "      <td>1.396986</td>\n",
       "      <td>103.747239</td>\n",
       "      <td>10 February 1996</td>\n",
       "    </tr>\n",
       "    <tr>\n",
       "      <th>4</th>\n",
       "      <td>Kranji MRT Station</td>\n",
       "      <td>1.425047</td>\n",
       "      <td>103.761853</td>\n",
       "      <td>10 February 1996</td>\n",
       "    </tr>\n",
       "  </tbody>\n",
       "</table>\n",
       "</div>"
      ],
      "text/plain": [
       "           mrt_station_name  latitude  longtitude      opening_date\n",
       "0   Jurong East MRT Station  1.333333  103.742222   5 November 1988\n",
       "1   Bukit Batok MRT Station  1.349167  103.749722     10 March 1990\n",
       "2  Bukit Gombak MRT Station  1.358611  103.751667     10 March 1990\n",
       "3       Yew Tee MRT Station  1.396986  103.747239  10 February 1996\n",
       "4        Kranji MRT Station  1.425047  103.761853  10 February 1996"
      ]
     },
     "execution_count": 3,
     "metadata": {},
     "output_type": "execute_result"
    }
   ],
   "source": [
    "mrt_stations = pd.read_csv('../data/modified/mrt_stations_opened.csv')\n",
    "mrt_stations.head()"
   ]
  },
  {
   "cell_type": "markdown",
   "metadata": {},
   "source": [
    "Next we create a method to run through the entire `mrt_stations.csv` to compare the distance between the flat and the mrt stations provided that opening date of the mrt stations is before the transaction record's date. For simplicity sake, we will assume that the transaction record is taken on the first day of the month. It will return the mrt stations that are within 1km of the flat"
   ]
  },
  {
   "cell_type": "code",
   "execution_count": 5,
   "metadata": {},
   "outputs": [],
   "source": [
    "# create a method to run through the entire mrt_stations.csv to compare the distance between the flat and the mrt stations provided that opening date of the mrt stations is before the transaction record year\n",
    "def get_mrt_stations_within_1km(flat_coordinates, mrt_stations_df,transaction_record_year):\n",
    "    # iterate through the mrt stations dataframe\n",
    "    mrt = []\n",
    "    for index, row in mrt_stations_df.iterrows():\n",
    "        mrt_longtitude, mrt_latitude = float(row['longtitude']), float(row['latitude'])\n",
    "        mrt_coordinates = Coordinate(lon=mrt_longtitude, lat=mrt_latitude)\n",
    "        # if mrt opening year is before the transaction record date, then we query the distance else we skip\n",
    "        opening_date = row['opening_date']\n",
    "        if (datetime.strptime(opening_date, '%d %B %Y')) < datetime.strptime(transaction_record_year, '%Y-%m-%d'):\n",
    "            distance = get_distance_between_two_coordinates(flat_coordinates, mrt_coordinates)\n",
    "            # distance may be a float or None due to restrictions in API calls, check type first\n",
    "            if type(distance) == float:\n",
    "                if distance <= 1:\n",
    "                    mrt.append(row['mrt_station_name'])\n",
    "            else:\n",
    "                mrt.append(distance) # this should be None, we will handle the Nones later on\n",
    "        else:\n",
    "            continue\n",
    "    return mrt\n",
    "\n",
    "# print(get_mrt_stations_within_1km(Coordinate(103.83761896123, 1.37509746867904), mrt_stations, '2015-01-01')) # Testing out mrts within 1km of 174 Ang Mo Kio Ave 4 - result is ['Mayflower MRT Station']"
   ]
  },
  {
   "cell_type": "markdown",
   "metadata": {},
   "source": [
    "Next we create a new column in the `hdb_cleaned_df` that will store `mrt_stations_within_1km`"
   ]
  },
  {
   "cell_type": "code",
   "execution_count": null,
   "metadata": {},
   "outputs": [],
   "source": [
    "processed_flats = {} # declare this outisde so that we can use it next time in the event we exceed the API limit\n",
    "\n",
    "# create a new column in hdb_cleaned_df mrt_stations_within_1km \n",
    "def create_mrt_stations_within_1km_column(hdb_cleaned_df):\n",
    "    mrt_stations_within_1km = []\n",
    "    for index, row in hdb_cleaned_df.iterrows():\n",
    "        # get the address\n",
    "        address = row['address']\n",
    "        if address in processed_flats:\n",
    "            continue\n",
    "        else:\n",
    "            # get the coordinates from hdb_coordinates dictionary\n",
    "            flat_coordinates = hdb_coordinates[address]\n",
    "            flat_coordinates = Coordinate(lon=float(flat_coordinates[1]), lat=float(flat_coordinates[0]))\n",
    "            transaction_record_year = row['month'] + '-01'\n",
    "            stations = get_mrt_stations_within_1km(flat_coordinates, mrt_stations, transaction_record_year)\n",
    "            mrt_stations_within_1km.append(stations)\n",
    "            processed_flats[address] = stations\n",
    "\n",
    "    hdb_cleaned_df['mrt_stations_within_1km'] = mrt_stations_within_1km\n",
    "    return hdb_cleaned_df\n",
    "\n",
    "hdb_cleaned_df = create_mrt_stations_within_1km_column(hdb_cleaned_df)\n"
   ]
  },
  {
   "cell_type": "markdown",
   "metadata": {},
   "source": [
    "Note that for one HDB flat, we will need to query using the API **129** times (since we have 129 rows of mrt stations). OpenRouteService API gives us **2000** queries for querying distances per 24h, so that will allow us to process 2000/129 which is about **15** flats per account. Since we have around **7921** unique flats in the dataset, that means we need 7921/15 which is approximately **528** accounts.\n",
    "\n",
    "We might need to use geometric distance using in-built python libraries instead of the API. The tradeoff would be that we lose out on the geospatial context."
   ]
  },
  {
   "cell_type": "markdown",
   "metadata": {},
   "source": [
    "### Getting the supply of BTO flats within 4km of the flat address in the respective time periods"
   ]
  },
  {
   "cell_type": "markdown",
   "metadata": {},
   "source": []
  }
 ],
 "metadata": {
  "kernelspec": {
   "display_name": "Python 3",
   "language": "python",
   "name": "python3"
  },
  "language_info": {
   "codemirror_mode": {
    "name": "ipython",
    "version": 3
   },
   "file_extension": ".py",
   "mimetype": "text/x-python",
   "name": "python",
   "nbconvert_exporter": "python",
   "pygments_lexer": "ipython3",
   "version": "3.11.4"
  }
 },
 "nbformat": 4,
 "nbformat_minor": 2
}
