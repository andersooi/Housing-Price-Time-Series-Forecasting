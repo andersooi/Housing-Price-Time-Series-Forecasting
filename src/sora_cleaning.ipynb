{
 "cells": [
  {
   "cell_type": "code",
   "execution_count": 41,
   "metadata": {},
   "outputs": [],
   "source": [
    "import pandas as pd\n",
    "import numpy as np\n",
    "import datetime as dt"
   ]
  },
  {
   "cell_type": "code",
   "execution_count": 9,
   "metadata": {},
   "outputs": [
    {
     "data": {
      "text/html": [
       "<div>\n",
       "<style scoped>\n",
       "    .dataframe tbody tr th:only-of-type {\n",
       "        vertical-align: middle;\n",
       "    }\n",
       "\n",
       "    .dataframe tbody tr th {\n",
       "        vertical-align: top;\n",
       "    }\n",
       "\n",
       "    .dataframe thead th {\n",
       "        text-align: right;\n",
       "    }\n",
       "</style>\n",
       "<table border=\"1\" class=\"dataframe\">\n",
       "  <thead>\n",
       "    <tr style=\"text-align: right;\">\n",
       "      <th></th>\n",
       "      <th>SORA Value Date</th>\n",
       "      <th>Unnamed: 1</th>\n",
       "      <th>Unnamed: 2</th>\n",
       "      <th>SORA Publication Date</th>\n",
       "      <th>Compound SORA - 3 month</th>\n",
       "    </tr>\n",
       "  </thead>\n",
       "  <tbody>\n",
       "    <tr>\n",
       "      <th>0</th>\n",
       "      <td>2005</td>\n",
       "      <td>Jul</td>\n",
       "      <td>1.0</td>\n",
       "      <td>04 Jul 2005</td>\n",
       "      <td>-</td>\n",
       "    </tr>\n",
       "    <tr>\n",
       "      <th>1</th>\n",
       "      <td>None</td>\n",
       "      <td>None</td>\n",
       "      <td>4.0</td>\n",
       "      <td>05 Jul 2005</td>\n",
       "      <td>-</td>\n",
       "    </tr>\n",
       "    <tr>\n",
       "      <th>2</th>\n",
       "      <td>None</td>\n",
       "      <td>None</td>\n",
       "      <td>5.0</td>\n",
       "      <td>06 Jul 2005</td>\n",
       "      <td>-</td>\n",
       "    </tr>\n",
       "    <tr>\n",
       "      <th>3</th>\n",
       "      <td>None</td>\n",
       "      <td>None</td>\n",
       "      <td>6.0</td>\n",
       "      <td>07 Jul 2005</td>\n",
       "      <td>-</td>\n",
       "    </tr>\n",
       "    <tr>\n",
       "      <th>4</th>\n",
       "      <td>None</td>\n",
       "      <td>None</td>\n",
       "      <td>7.0</td>\n",
       "      <td>08 Jul 2005</td>\n",
       "      <td>-</td>\n",
       "    </tr>\n",
       "  </tbody>\n",
       "</table>\n",
       "</div>"
      ],
      "text/plain": [
       "  SORA Value Date Unnamed: 1 Unnamed: 2 SORA Publication Date  \\\n",
       "0            2005        Jul        1.0           04 Jul 2005   \n",
       "1            None       None        4.0           05 Jul 2005   \n",
       "2            None       None        5.0           06 Jul 2005   \n",
       "3            None       None        6.0           07 Jul 2005   \n",
       "4            None       None        7.0           08 Jul 2005   \n",
       "\n",
       "  Compound SORA - 3 month  \n",
       "0                       -  \n",
       "1                       -  \n",
       "2                       -  \n",
       "3                       -  \n",
       "4                       -  "
      ]
     },
     "execution_count": 9,
     "metadata": {},
     "output_type": "execute_result"
    }
   ],
   "source": [
    "data = pd.read_csv('../data/3M_SORA_rates_2005_2024.csv', skiprows=6)\n",
    "data = data.replace({np.nan: None})\n",
    "data.head()"
   ]
  },
  {
   "cell_type": "code",
   "execution_count": 45,
   "metadata": {},
   "outputs": [
    {
     "data": {
      "text/html": [
       "<div>\n",
       "<style scoped>\n",
       "    .dataframe tbody tr th:only-of-type {\n",
       "        vertical-align: middle;\n",
       "    }\n",
       "\n",
       "    .dataframe tbody tr th {\n",
       "        vertical-align: top;\n",
       "    }\n",
       "\n",
       "    .dataframe thead th {\n",
       "        text-align: right;\n",
       "    }\n",
       "</style>\n",
       "<table border=\"1\" class=\"dataframe\">\n",
       "  <thead>\n",
       "    <tr style=\"text-align: right;\">\n",
       "      <th></th>\n",
       "      <th>Compound SORA - 3 month</th>\n",
       "    </tr>\n",
       "    <tr>\n",
       "      <th>SORA Value Month</th>\n",
       "      <th></th>\n",
       "    </tr>\n",
       "  </thead>\n",
       "  <tbody>\n",
       "    <tr>\n",
       "      <th>2005-10</th>\n",
       "      <td>1.960476</td>\n",
       "    </tr>\n",
       "    <tr>\n",
       "      <th>2005-11</th>\n",
       "      <td>2.195200</td>\n",
       "    </tr>\n",
       "    <tr>\n",
       "      <th>2005-12</th>\n",
       "      <td>2.470248</td>\n",
       "    </tr>\n",
       "    <tr>\n",
       "      <th>2006-01</th>\n",
       "      <td>2.795811</td>\n",
       "    </tr>\n",
       "    <tr>\n",
       "      <th>2006-02</th>\n",
       "      <td>3.040975</td>\n",
       "    </tr>\n",
       "  </tbody>\n",
       "</table>\n",
       "</div>"
      ],
      "text/plain": [
       "                  Compound SORA - 3 month\n",
       "SORA Value Month                         \n",
       "2005-10                          1.960476\n",
       "2005-11                          2.195200\n",
       "2005-12                          2.470248\n",
       "2006-01                          2.795811\n",
       "2006-02                          3.040975"
      ]
     },
     "execution_count": 45,
     "metadata": {},
     "output_type": "execute_result"
    }
   ],
   "source": [
    "output_df = pd.DataFrame(columns=['SORA Value Month', 'Compound SORA - 3 month'])\n",
    "value_year = 2005\n",
    "value_month = ''\n",
    "for (index, row) in data.iterrows():\n",
    "    if row.isnull().iloc[2] or row.iloc[4] == '-':\n",
    "        continue\n",
    "    if row.isnull().iloc[0] == False:\n",
    "        value_year = row.iloc[0]\n",
    "    if row.isnull().iloc[1] == False:\n",
    "        value_month = row.iloc[1]\n",
    "    sora_value_month = str(value_year) + ' ' + value_month\n",
    "    sora_value_month = dt.datetime.strptime(sora_value_month, '%Y %b').strftime('%Y-%m')\n",
    "    compound_sora = float(row.iloc[4])\n",
    "    output_df.loc[len(output_df.index)] = [sora_value_month, compound_sora]\n",
    "output_df = output_df.groupby(['SORA Value Month']).mean()\n",
    "output_df.head()"
   ]
  },
  {
   "cell_type": "code",
   "execution_count": 46,
   "metadata": {},
   "outputs": [],
   "source": [
    "output_df.to_csv('../data/modified/3M_SORA_rates_2005_2024_cleaned.csv')"
   ]
  }
 ],
 "metadata": {
  "kernelspec": {
   "display_name": "Python 3",
   "language": "python",
   "name": "python3"
  },
  "language_info": {
   "codemirror_mode": {
    "name": "ipython",
    "version": 3
   },
   "file_extension": ".py",
   "mimetype": "text/x-python",
   "name": "python",
   "nbconvert_exporter": "python",
   "pygments_lexer": "ipython3",
   "version": "3.12.2"
  }
 },
 "nbformat": 4,
 "nbformat_minor": 2
}
