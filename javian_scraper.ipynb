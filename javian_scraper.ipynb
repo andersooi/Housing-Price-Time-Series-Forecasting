{
 "cells": [
  {
   "cell_type": "markdown",
   "metadata": {},
   "source": [
    "# Website Scrapper"
   ]
  },
  {
   "cell_type": "markdown",
   "metadata": {},
   "source": [
    "# Import all packages"
   ]
  },
  {
   "cell_type": "code",
   "execution_count": 34,
   "metadata": {},
   "outputs": [],
   "source": [
    "import re\n",
    "import requests\n",
    "from bs4 import BeautifulSoup\n",
    "\n",
    "from selenium import webdriver\n",
    "from selenium.webdriver.common.by import By\n",
    "from selenium.webdriver.support.ui import WebDriverWait\n",
    "from selenium.webdriver.support import expected_conditions as EC\n",
    "\n",
    "import csv"
   ]
  },
  {
   "cell_type": "markdown",
   "metadata": {},
   "source": [
    "# Scrap a Single Page\n",
    "- Using beautiful soup.\n",
    "- Exract the following properties\n",
    "    - heading\n",
    "    - pricing\n",
    "    - numberOfBedrooms = container.find(itemprop=\"numberOfBedrooms\")\n",
    "    - numberOfBathrooms\n",
    "    - floorSize = container.find(itemprop=\"floorSize\")"
   ]
  },
  {
   "cell_type": "code",
   "execution_count": 35,
   "metadata": {},
   "outputs": [],
   "source": [
    "def scrape_page(url):\n",
    "    headers = {\n",
    "        'User-Agent': 'Mozilla/5.0 (Windows NT 10.0; Win64; x64) AppleWebKit/537.36 (KHTML, like Gecko) Chrome/58.0.3029.110 Safari/537.3'\n",
    "    }\n",
    "    response = requests.get(url, headers=headers)\n",
    "\n",
    "    # Check if the request was successful\n",
    "    if response.status_code == 200:\n",
    "        # Parse the HTML content\n",
    "        soup = BeautifulSoup(response.content, 'html.parser')\n",
    "        containers = soup.find_all(class_=re.compile(r'ListItemCard_container__[a-zA-Z0-9]+'))\n",
    "        all_buildings = []\n",
    "        \n",
    "        for container in containers:\n",
    "            # Within each container, find the heading with the specified class pattern\n",
    "            heading = container.find(class_=re.compile(r'CellHeading_heading__[a-zA-Z0-9]+'))\n",
    "            pricing = container.find(class_=re.compile(r'CellPrice_text__[a-zA-Z0-9]+'))\n",
    "            numberOfBedrooms = container.find(itemprop=\"numberOfBedrooms\")\n",
    "            numberOfBathroomsTotal = container.find(itemprop=\"numberOfBathroomsTotal\")\n",
    "            floorSize = container.find(itemprop=\"floorSize\")\n",
    "            \n",
    "            if heading:\n",
    "                templist = []\n",
    "                templist.append(heading.text.strip())\n",
    "                templist.append(pricing.text.strip())\n",
    "                templist.append(numberOfBedrooms.text.strip())\n",
    "                templist.append(numberOfBathroomsTotal.text.strip())\n",
    "                templist.append(floorSize.text.strip())\n",
    "                all_buildings.append(templist)\n",
    "\n",
    "        return all_buildings\n",
    "    else:\n",
    "        print(\"Failed to retrieve page:\", response.status_code)"
   ]
  },
  {
   "cell_type": "code",
   "execution_count": 36,
   "metadata": {},
   "outputs": [],
   "source": [
    "def scrape_page(url):\n",
    "    headers = {\n",
    "        'User-Agent': 'Mozilla/5.0 (Windows NT 10.0; Win64; x64) AppleWebKit/537.36 (KHTML, like Gecko) Chrome/58.0.3029.110 Safari/537.3'\n",
    "    }\n",
    "    response = requests.get(url, headers=headers)\n",
    "\n",
    "    # Check if the request was successful\n",
    "    if response.status_code == 200:\n",
    "        # Parse the HTML content\n",
    "        soup = BeautifulSoup(response.content, 'html.parser')\n",
    "        containers = soup.find_all(class_=re.compile(r'ListItemCard_container__[a-zA-Z0-9]+'))\n",
    "        all_buildings = []\n",
    "        \n",
    "        for container in containers:\n",
    "            # Within each container, find the heading with the specified class pattern\n",
    "            heading = container.find(class_=re.compile(r'CellHeading_heading__[a-zA-Z0-9]+'))\n",
    "            pricing = container.find(class_=re.compile(r'CellPrice_text__[a-zA-Z0-9]+'))\n",
    "            numberOfBedrooms = container.find(itemprop=\"numberOfBedrooms\")\n",
    "            numberOfBathroomsTotal = container.find(itemprop=\"numberOfBathroomsTotal\")\n",
    "            floorSize = container.find(itemprop=\"floorSize\")\n",
    "            \n",
    "            if heading:\n",
    "                templist = []\n",
    "                templist.append(heading.text.strip())\n",
    "                templist.append(pricing.text.strip())\n",
    "                templist.append(numberOfBedrooms.text.strip())\n",
    "                templist.append(numberOfBathroomsTotal.text.strip())\n",
    "                templist.append(floorSize.text.strip())\n",
    "                all_buildings.append(templist)\n",
    "\n",
    "\n",
    "        return all_buildings\n",
    "    else:\n",
    "        print(\"Failed to retrieve page:\", response.status_code)"
   ]
  },
  {
   "cell_type": "code",
   "execution_count": 37,
   "metadata": {},
   "outputs": [
    {
     "data": {
      "text/plain": [
       "'4S next to corner\\nHigh floor\\nUnblock view\\nNo noon sun\\nOriginal condition\\nSuit for design your own dream home\\nCan contra\\nPurely selling\\nNo extension needed\\nWalking distance to future MRT station\\nNear Temasek Primary and Secondary school, childcare center, CC, market and hawker center etc\\nOnly Chinese and Malay buyers eligible\\nAll SPRs can buy\\nFor exclusive viewing, kindly contact Alan Poh @  9100 XXXX.'"
      ]
     },
     "execution_count": 37,
     "metadata": {},
     "output_type": "execute_result"
    }
   ],
   "source": [
    "def scraper_ind_page(url):\n",
    "    headers = {\n",
    "        'User-Agent': 'Mozilla/5.0 (Windows NT 10.0; Win64; x64) AppleWebKit/537.36 (KHTML, like Gecko) Chrome/58.0.3029.110 Safari/537.3'\n",
    "    }\n",
    "    response = requests.get(url, headers=headers)\n",
    "\n",
    "    # Check if the request was successful\n",
    "    if response.status_code == 200:\n",
    "        # Parse the HTML content\n",
    "        soup = BeautifulSoup(response.content, 'html.parser')\n",
    "        description = soup.find(class_=re.compile(r'Description_description__[a-zA-Z0-9]+'))\n",
    "        return(description.text.strip())\n",
    "    else:\n",
    "        print(\"Failed to retrieve page:\", response.status_code)\n",
    "        \n",
    "scraper_ind_page(\"https://www.99.co/singapore/sale/property/159-bedok-south-avenue-3-hdb-2JEoAwCqbMuLWs2ztdH6BU\")"
   ]
  },
  {
   "cell_type": "markdown",
   "metadata": {},
   "source": [
    "# Selenium to navigate page\n",
    "\n",
    "- Unable to find the href of the next page.\n",
    "- Using Selenium to force locate the next page."
   ]
  },
  {
   "cell_type": "code",
   "execution_count": 38,
   "metadata": {},
   "outputs": [],
   "source": [
    "def get_next_page_url(url):\n",
    "    # Create a WebDriver instance (assuming you have Chrome installed)\n",
    "    driver = webdriver.Chrome()\n",
    "\n",
    "    try:\n",
    "        # Load the webpage\n",
    "        driver.get(url)\n",
    "\n",
    "        # Find the \"Next page\" button element\n",
    "        next_page_button = WebDriverWait(driver, 10).until(\n",
    "            EC.visibility_of_element_located((By.XPATH, '//a[@aria-label=\"Next page\"]'))\n",
    "        )\n",
    "\n",
    "        # Click the \"Next page\" button\n",
    "        next_page_button.click()\n",
    "\n",
    "        # Retrieve the URL of the next page\n",
    "        next_page_url = driver.current_url\n",
    "        return next_page_url\n",
    "\n",
    "    finally:\n",
    "        # Close the WebDriver\n",
    "        driver.quit()"
   ]
  },
  {
   "cell_type": "code",
   "execution_count": 39,
   "metadata": {},
   "outputs": [
    {
     "name": "stdout",
     "output_type": "stream",
     "text": [
      "Failed to retrieve page: 429\n"
     ]
    },
    {
     "ename": "WebDriverException",
     "evalue": "Message: no such execution context\n  (Session info: chrome=123.0.6312.58)\nStacktrace:\n0   chromedriver                        0x00000001027f43e8 chromedriver + 4326376\n1   chromedriver                        0x00000001027ec8b0 chromedriver + 4294832\n2   chromedriver                        0x0000000102417eec chromedriver + 278252\n3   chromedriver                        0x0000000102401748 chromedriver + 186184\n4   chromedriver                        0x00000001023ffe9c chromedriver + 179868\n5   chromedriver                        0x0000000102400930 chromedriver + 182576\n6   chromedriver                        0x000000010240f3b0 chromedriver + 242608\n7   chromedriver                        0x0000000102422504 chromedriver + 320772\n8   chromedriver                        0x0000000102400edc chromedriver + 184028\n9   chromedriver                        0x0000000102422188 chromedriver + 319880\n10  chromedriver                        0x000000010249343c chromedriver + 783420\n11  chromedriver                        0x000000010244f4e4 chromedriver + 505060\n12  chromedriver                        0x000000010244ff5c chromedriver + 507740\n13  chromedriver                        0x00000001027b7984 chromedriver + 4077956\n14  chromedriver                        0x00000001027bc73c chromedriver + 4097852\n15  chromedriver                        0x000000010279e528 chromedriver + 3974440\n16  chromedriver                        0x00000001027bd054 chromedriver + 4100180\n17  chromedriver                        0x000000010278fb18 chromedriver + 3914520\n18  chromedriver                        0x00000001027dd65c chromedriver + 4232796\n19  chromedriver                        0x00000001027dd7d8 chromedriver + 4233176\n20  chromedriver                        0x00000001027ec524 chromedriver + 4293924\n21  libsystem_pthread.dylib             0x0000000196e36f94 _pthread_start + 136\n22  libsystem_pthread.dylib             0x0000000196e31d34 thread_start + 8\n",
     "output_type": "error",
     "traceback": [
      "\u001b[0;31m---------------------------------------------------------------------------\u001b[0m",
      "\u001b[0;31mWebDriverException\u001b[0m                        Traceback (most recent call last)",
      "Cell \u001b[0;32mIn[39], line 36\u001b[0m\n\u001b[1;32m     33\u001b[0m initial_url \u001b[38;5;241m=\u001b[39m \u001b[38;5;124m\"\u001b[39m\u001b[38;5;124mhttps://www.99.co/singapore/sale?main_category=hdb\u001b[39m\u001b[38;5;124m\"\u001b[39m\n\u001b[1;32m     35\u001b[0m \u001b[38;5;66;03m# Call the function to perform scraping on the next page\u001b[39;00m\n\u001b[0;32m---> 36\u001b[0m scrap_inner_page(initial_url)\n",
      "Cell \u001b[0;32mIn[39], line 21\u001b[0m, in \u001b[0;36mscrap_inner_page\u001b[0;34m(url)\u001b[0m\n\u001b[1;32m     18\u001b[0m driver\u001b[38;5;241m.\u001b[39mswitch_to\u001b[38;5;241m.\u001b[39mwindow(driver\u001b[38;5;241m.\u001b[39mwindow_handles[\u001b[38;5;241m-\u001b[39m\u001b[38;5;241m1\u001b[39m])\n\u001b[1;32m     20\u001b[0m \u001b[38;5;66;03m# Perform scraping on the current page\u001b[39;00m\n\u001b[0;32m---> 21\u001b[0m scraper_ind_page(driver\u001b[38;5;241m.\u001b[39mcurrent_url)\n\u001b[1;32m     23\u001b[0m \u001b[38;5;66;03m# Close the current tab to return to the previous page for clicking the next element\u001b[39;00m\n\u001b[1;32m     24\u001b[0m driver\u001b[38;5;241m.\u001b[39mclose()\n",
      "File \u001b[0;32m~/anaconda3/lib/python3.11/site-packages/selenium/webdriver/remote/webdriver.py:437\u001b[0m, in \u001b[0;36mWebDriver.current_url\u001b[0;34m(self)\u001b[0m\n\u001b[1;32m    428\u001b[0m \u001b[38;5;129m@property\u001b[39m\n\u001b[1;32m    429\u001b[0m \u001b[38;5;28;01mdef\u001b[39;00m \u001b[38;5;21mcurrent_url\u001b[39m(\u001b[38;5;28mself\u001b[39m) \u001b[38;5;241m-\u001b[39m\u001b[38;5;241m>\u001b[39m \u001b[38;5;28mstr\u001b[39m:\n\u001b[1;32m    430\u001b[0m \u001b[38;5;250m    \u001b[39m\u001b[38;5;124;03m\"\"\"Gets the URL of the current page.\u001b[39;00m\n\u001b[1;32m    431\u001b[0m \n\u001b[1;32m    432\u001b[0m \u001b[38;5;124;03m    :Usage:\u001b[39;00m\n\u001b[0;32m   (...)\u001b[0m\n\u001b[1;32m    435\u001b[0m \u001b[38;5;124;03m            driver.current_url\u001b[39;00m\n\u001b[1;32m    436\u001b[0m \u001b[38;5;124;03m    \"\"\"\u001b[39;00m\n\u001b[0;32m--> 437\u001b[0m     \u001b[38;5;28;01mreturn\u001b[39;00m \u001b[38;5;28mself\u001b[39m\u001b[38;5;241m.\u001b[39mexecute(Command\u001b[38;5;241m.\u001b[39mGET_CURRENT_URL)[\u001b[38;5;124m\"\u001b[39m\u001b[38;5;124mvalue\u001b[39m\u001b[38;5;124m\"\u001b[39m]\n",
      "File \u001b[0;32m~/anaconda3/lib/python3.11/site-packages/selenium/webdriver/remote/webdriver.py:347\u001b[0m, in \u001b[0;36mWebDriver.execute\u001b[0;34m(self, driver_command, params)\u001b[0m\n\u001b[1;32m    345\u001b[0m response \u001b[38;5;241m=\u001b[39m \u001b[38;5;28mself\u001b[39m\u001b[38;5;241m.\u001b[39mcommand_executor\u001b[38;5;241m.\u001b[39mexecute(driver_command, params)\n\u001b[1;32m    346\u001b[0m \u001b[38;5;28;01mif\u001b[39;00m response:\n\u001b[0;32m--> 347\u001b[0m     \u001b[38;5;28mself\u001b[39m\u001b[38;5;241m.\u001b[39merror_handler\u001b[38;5;241m.\u001b[39mcheck_response(response)\n\u001b[1;32m    348\u001b[0m     response[\u001b[38;5;124m\"\u001b[39m\u001b[38;5;124mvalue\u001b[39m\u001b[38;5;124m\"\u001b[39m] \u001b[38;5;241m=\u001b[39m \u001b[38;5;28mself\u001b[39m\u001b[38;5;241m.\u001b[39m_unwrap_value(response\u001b[38;5;241m.\u001b[39mget(\u001b[38;5;124m\"\u001b[39m\u001b[38;5;124mvalue\u001b[39m\u001b[38;5;124m\"\u001b[39m, \u001b[38;5;28;01mNone\u001b[39;00m))\n\u001b[1;32m    349\u001b[0m     \u001b[38;5;28;01mreturn\u001b[39;00m response\n",
      "File \u001b[0;32m~/anaconda3/lib/python3.11/site-packages/selenium/webdriver/remote/errorhandler.py:229\u001b[0m, in \u001b[0;36mErrorHandler.check_response\u001b[0;34m(self, response)\u001b[0m\n\u001b[1;32m    227\u001b[0m         alert_text \u001b[38;5;241m=\u001b[39m value[\u001b[38;5;124m\"\u001b[39m\u001b[38;5;124malert\u001b[39m\u001b[38;5;124m\"\u001b[39m]\u001b[38;5;241m.\u001b[39mget(\u001b[38;5;124m\"\u001b[39m\u001b[38;5;124mtext\u001b[39m\u001b[38;5;124m\"\u001b[39m)\n\u001b[1;32m    228\u001b[0m     \u001b[38;5;28;01mraise\u001b[39;00m exception_class(message, screen, stacktrace, alert_text)  \u001b[38;5;66;03m# type: ignore[call-arg]  # mypy is not smart enough here\u001b[39;00m\n\u001b[0;32m--> 229\u001b[0m \u001b[38;5;28;01mraise\u001b[39;00m exception_class(message, screen, stacktrace)\n",
      "\u001b[0;31mWebDriverException\u001b[0m: Message: no such execution context\n  (Session info: chrome=123.0.6312.58)\nStacktrace:\n0   chromedriver                        0x00000001027f43e8 chromedriver + 4326376\n1   chromedriver                        0x00000001027ec8b0 chromedriver + 4294832\n2   chromedriver                        0x0000000102417eec chromedriver + 278252\n3   chromedriver                        0x0000000102401748 chromedriver + 186184\n4   chromedriver                        0x00000001023ffe9c chromedriver + 179868\n5   chromedriver                        0x0000000102400930 chromedriver + 182576\n6   chromedriver                        0x000000010240f3b0 chromedriver + 242608\n7   chromedriver                        0x0000000102422504 chromedriver + 320772\n8   chromedriver                        0x0000000102400edc chromedriver + 184028\n9   chromedriver                        0x0000000102422188 chromedriver + 319880\n10  chromedriver                        0x000000010249343c chromedriver + 783420\n11  chromedriver                        0x000000010244f4e4 chromedriver + 505060\n12  chromedriver                        0x000000010244ff5c chromedriver + 507740\n13  chromedriver                        0x00000001027b7984 chromedriver + 4077956\n14  chromedriver                        0x00000001027bc73c chromedriver + 4097852\n15  chromedriver                        0x000000010279e528 chromedriver + 3974440\n16  chromedriver                        0x00000001027bd054 chromedriver + 4100180\n17  chromedriver                        0x000000010278fb18 chromedriver + 3914520\n18  chromedriver                        0x00000001027dd65c chromedriver + 4232796\n19  chromedriver                        0x00000001027dd7d8 chromedriver + 4233176\n20  chromedriver                        0x00000001027ec524 chromedriver + 4293924\n21  libsystem_pthread.dylib             0x0000000196e36f94 _pthread_start + 136\n22  libsystem_pthread.dylib             0x0000000196e31d34 thread_start + 8\n"
     ]
    }
   ],
   "source": [
    "def scrap_inner_page(url):\n",
    "    # Set up Selenium WebDriver\n",
    "    driver = webdriver.Chrome()  # or any other WebDriver you're using\n",
    "    driver.get(url)\n",
    "\n",
    "    try:\n",
    "        # Find all elements with data-cy=\"listingCard\" to navigate to the next pages\n",
    "        next_page_elements = WebDriverWait(driver, 10).until(EC.presence_of_all_elements_located((By.CSS_SELECTOR, '[data-cy=\"listingCard\"]')))\n",
    "        \n",
    "        # Iterate through each element and click it to navigate to the respective page\n",
    "        for next_page_element in next_page_elements:\n",
    "            next_page_element.click()\n",
    "\n",
    "            # Wait for the next page to load\n",
    "            WebDriverWait(driver, 10).until(EC.presence_of_element_located((By.CSS_SELECTOR, '[data-cy=\"listingCard\"]')))\n",
    "\n",
    "            # Switch to the new tab\n",
    "            driver.switch_to.window(driver.window_handles[-1])\n",
    "\n",
    "            # Perform scraping on the current page\n",
    "            scraper_ind_page(driver.current_url)\n",
    "            \n",
    "            # Close the current tab to return to the previous page for clicking the next element\n",
    "            driver.close()\n",
    "\n",
    "            # Switch back to the main tab\n",
    "            driver.switch_to.window(driver.window_handles[0])\n",
    "    finally:\n",
    "        # Close the WebDriver session\n",
    "        driver.quit()\n",
    "\n",
    "# URL of the initial page\n",
    "initial_url = \"https://www.99.co/singapore/sale?main_category=hdb\"\n",
    "\n",
    "# Call the function to perform scraping on the next page\n",
    "scrap_inner_page(initial_url)\n"
   ]
  },
  {
   "cell_type": "markdown",
   "metadata": {},
   "source": [
    "# Search a few pages automatically"
   ]
  },
  {
   "cell_type": "code",
   "execution_count": 5,
   "metadata": {},
   "outputs": [
    {
     "name": "stdout",
     "output_type": "stream",
     "text": [
      "['3 Room HDB in 308C Punggol Walk', '$800,000', '3 Beds', '2 Baths', '1,206 sqft / 112.04 sqm']\n",
      "['Exec HDB in 136 Pasir Ris Street 11', '$810,000', '4 Beds', '2 Baths', '1,560 sqft / 144.93 sqm']\n",
      "['5 Room HDB in 293 Yishun Street 22', '$750,000', '4 Beds', '2 Baths', '1,431 sqft / 132.94 sqm']\n",
      "['3 Room HDB in 462D Yishun Avenue 6', '$465,000', '2 Beds', '2 Baths', '732 sqft / 68 sqm']\n",
      "['3 Room HDB in 422 Bukit Batok West Avenue 2', '$380,000', '2 Beds', '2 Baths', '731 sqft / 67.91 sqm']\n",
      "['Exec HDB in 150 Mei Ling Street', '$1,300,000', '4 Beds', '3 Baths', '1,582 sqft / 146.97 sqm']\n",
      "[\"4 Room HDB in 26B Saint George's Lane\", '$970,000', '3 Beds', '2 Baths', '990 sqft / 91.97 sqm']\n",
      "['Exec HDB in 637 Woodlands Ring Road', '$1,150,000', '3 Beds', '3 Baths', '1,528 sqft / 141.96 sqm']\n",
      "['4 Room HDB in 11 Haig Road', '$680,000', '2 Beds', '2 Baths', '990 sqft / 91.97 sqm']\n",
      "['4 Room HDB in 817B Keat Hong Link', '$588,000', '3 Beds', '2 Baths', '990 sqft / 91.97 sqm']\n",
      "['4 Room HDB in 142 Lorong 2 Toa Payoh', '$920,000', '3 Beds', '2 Baths', '925 sqft / 85.94 sqm']\n",
      "['4 Room HDB in 273A Jurong West Avenue 3', '$488,000', '3 Beds', '2 Baths', '969 sqft / 90.02 sqm']\n",
      "['4 Bed HDB in 781 Pasir Ris Street 71', '$890,000', '4 Beds', '2 Baths', '1,528 sqft / 141.96 sqm']\n",
      "['5 Room HDB in 770 Bedok Reservoir View', '$850,000', '3 Beds', '2 Baths', '1,238 sqft / 115.01 sqm']\n",
      "['4 Room HDB in 439B Bukit Batok West Avenue 8', '$625,000', '3 Beds', '2 Baths', '1,001 sqft / 93 sqm']\n",
      "['3 Room HDB in 28 Hoy Fatt Road', '$370,000', '2 Beds', '1 Bath', '645 sqft / 59.92 sqm']\n",
      "['Exec HDB in 111 Clementi Street 13', '$1,200,000', '3 Beds', '3 Baths', '1,582 sqft / 146.97 sqm']\n",
      "['5 Room HDB in 277 Toh Guan Road', '$715,000', '3 Beds', '3 Baths', '1,302 sqft / 120.96 sqm']\n",
      "['4 Room HDB in 404 Yishun Avenue 6', '$575,000', '3 Beds', '2 Baths', '1,119 sqft / 103.96 sqm']\n",
      "['3 Room HDB in 116 Pending Road', '$410,000', '2 Beds', '2 Baths', '786 sqft / 73.02 sqm']\n",
      "['3 Room HDB in 67 Marine Drive', '$528,000', '2 Beds', '2 Baths', '721 sqft / 66.98 sqm']\n",
      "['5 Room HDB in 317 Ang Mo Kio Street 31', '$908,888', '4 Beds', '2 Baths', '1,485 sqft / 137.96 sqm']\n",
      "['5 Room HDB in 79 Marine Drive', '$988,000', '3 Beds', '2 Baths', '1,313 sqft / 121.98 sqm']\n",
      "['4 Room HDB in 811A Choa Chu Kang Avenue 7', '$586,000', '3 Beds', '2 Baths', '1,001 sqft / 93 sqm']\n",
      "['4 Room HDB in 159 Bedok South Avenue 3', '$568,000', '3 Beds', '2 Baths', '904 sqft / 83.98 sqm']\n",
      "['5 Room HDB in 297 Yishun Street 20', '$658,000', '3 Beds', '2 Baths', '1,205 sqft / 111.95 sqm']\n",
      "['4 Room HDB in 824 Jurong West Street 81', '$470,000', '3 Beds', '2 Baths', '1,119 sqft / 103.96 sqm']\n",
      "['2 Room HDB in 76 Telok Blangah Drive', '$320,000', '1 Bed', '1 Bath', '474 sqft / 44.04 sqm']\n",
      "['Exec HDB in 470 Jurong West Street 41', '$940,000', '3 Beds', '2 Baths', '1,625 sqft / 150.97 sqm']\n",
      "['4 Room HDB in 132 Edgedale Plains', '$550,000', '3 Beds', '2 Baths', '980 sqft / 91.04 sqm']\n",
      "['5 Room HDB in 343 Tampines Street 33', '$725,000', '4 Beds', '2 Baths', '1,474 sqft / 136.94 sqm']\n",
      "['4 Room HDB in 439B Bukit Batok West Avenue 8', '$648,000', '3 Beds', '2 Baths', '1,001 sqft / 93 sqm']\n",
      "['4 Room HDB in 998A Buangkok Crescent', '$690,000', '2 Beds', '2 Baths', '1,012 sqft / 94.02 sqm']\n",
      "['4 Room HDB in 475D Upper Serangoon Crescent', '$770,000', '3 Beds', '2 Baths', '990 sqft / 91.97 sqm']\n",
      "['4 Room HDB in 418 Fajar Road', '$520,000', '3 Beds', '2 Baths', '1,119 sqft / 103.96 sqm']\n",
      "['5 Room HDB in 769 Bedok Reservoir View', '$798,000', '3 Beds', '2 Baths', '1,238 sqft / 115.01 sqm']\n",
      "['3 Room HDB in 6 Holland Close', '$580,000', '2 Beds', '1 Bath', '786 sqft / 73.02 sqm']\n",
      "['3 Room HDB in 422 Ang Mo Kio Avenue 3', '$435,000', '2 Beds', '2 Baths', '785 sqft / 72.93 sqm']\n",
      "['4 Room HDB in 443B Bukit Batok West Avenue 8', '$650,000', '3 Beds', '2 Baths', '990 sqft / 91.97 sqm']\n",
      "['5 Room HDB in 19 Jalan Tenteram', '$800,000', '3 Beds', '2 Baths', '1,130 sqft / 104.98 sqm']\n",
      "['4 Room HDB in 217 Jurong East Street 21', '$500,000', '3 Beds', '2 Baths', '980 sqft / 91.04 sqm']\n",
      "['4 Room HDB in 93B Telok Blangah Street 31', '$980,000', '3 Beds', '2 Baths', '1,001 sqft / 93 sqm']\n",
      "['4 Room HDB in 83A Circuit Road', '$1,038,000', '3 Beds', '2 Baths', '1,033 sqft / 95.97 sqm']\n",
      "['3 Room HDB in 55 Chai Chee Drive', '$438,000', '2 Beds', '2 Baths', '807 sqft / 74.97 sqm']\n",
      "['3 Room HDB in 471 Ang Mo Kio Avenue 10', '$399,000', '2 Beds', '2 Baths', '721 sqft / 66.98 sqm']\n",
      "[\"4 Room HDB in 26A Saint George's Lane\", '$1,180,000', '3 Beds', '2 Baths', '990 sqft / 91.97 sqm']\n",
      "['4 Bed HDB in 229 Choa Chu Kang Central', '$590,000', '4 Beds', '2 Baths', '1,313 sqft / 121.98 sqm']\n",
      "['Exec HDB in 189C Rivervale Drive', '$758,888', '4 Beds', '2 Baths', '1,410 sqft / 130.99 sqm']\n",
      "['5 Room HDB in 13 Dover Close East', '$940,000', '3 Beds', '2 Baths', '1,259 sqft / 116.96 sqm']\n",
      "['5 Room HDB in 955 Hougang Avenue 9', '$668,000', '3 Beds', '2 Baths', '1,238 sqft / 115.01 sqm']\n",
      "['Exec HDB in 111 Simei Street 1', '$1,050,000', '4 Beds', '3 Baths', '1,572 sqft / 146.04 sqm']\n",
      "['3 Room HDB in 83B Circuit Road', '$800,000', '2 Beds', '2 Baths', '732 sqft / 68 sqm']\n",
      "['Exec HDB in 360 Yishun Ring Road', '$866,000', '4 Beds', '2 Baths', '1,528 sqft / 141.96 sqm']\n",
      "['4 Room HDB in 56 Havelock Road', '$888,000', '2 Beds', '2 Baths', '1,012 sqft / 94.02 sqm']\n",
      "['3 Room HDB in 35 Bedok South Avenue 2', '$540,000', '3 Beds', '2 Baths', '968 sqft / 89.93 sqm']\n",
      "['4 Room HDB in 668B Jurong West Street 64', '$520,000', '3 Beds', '2 Baths', '915 sqft / 85.01 sqm']\n",
      "[\"4 Room HDB in 26B Saint George's Lane\", '$1,200,000', '2 Beds', '2 Baths', '990 sqft / 91.97 sqm']\n",
      "['4 Room HDB in 687B Woodlands Drive 75', '$570,000', '3 Beds', '2 Baths', '1,012 sqft / 94.02 sqm']\n",
      "['3 Room HDB in 682A Jurong West Central 1', '$700,000', '3 Beds', '2 Baths', '1,237 sqft / 114.92 sqm']\n",
      "['3 Room HDB in 421 Clementi Avenue 1', '$788,000', '3 Beds', '2 Baths', '990 sqft / 91.97 sqm']\n",
      "['4 Room HDB in 290 Bishan Street 24', '$730,000', '3 Beds', '2 Baths', '1,098 sqft / 102.01 sqm']\n",
      "['Exec HDB in 539 Hougang Street 52', '$900,000', '4 Beds', '3 Baths', '1,614 sqft / 149.95 sqm']\n",
      "['3 Room HDB in 728 Clementi West Street 2', '$398,000', '2 Beds', '2 Baths', '732 sqft / 68 sqm']\n",
      "['4 Room HDB in 463 Jurong West Street 41', '$505,000', '3 Beds', '2 Baths', '1,012 sqft / 94.02 sqm']\n",
      "['3 Room HDB in 322 Ang Mo Kio Avenue 3', '$450,000', '2 Beds', '2 Baths', '785 sqft / 72.93 sqm']\n",
      "['3 Room HDB in 808C Choa Chu Kang Avenue 1', '$608,000', '3 Beds', '2 Baths', '990 sqft / 91.97 sqm']\n",
      "['5 Room HDB in 801A Keat Hong Close', '$650,000', '3 Beds', '2 Baths', '1,215 sqft / 112.88 sqm']\n",
      "['5 Room HDB in 311A Anchorvale Lane', '$699,999', '3 Beds', '2 Baths', '1,298 sqft / 120.59 sqm']\n",
      "['Exec HDB in 239 Pasir Ris Street 21', '$900,000', '4 Beds', '2 Baths', '1,636 sqft / 151.99 sqm']\n",
      "['3 Room HDB in 157 Lorong 1 Toa Payoh', '$438,000', '3 Beds', '2 Baths', '700 sqft / 65.03 sqm']\n"
     ]
    }
   ],
   "source": [
    "def get_pages(url, number, result=[]):\n",
    "    if number <= 0:\n",
    "        return result\n",
    "    \n",
    "    result += scrape_page(url)\n",
    "    next_page_url = get_next_page_url(url)\n",
    "    \n",
    "    if next_page_url:\n",
    "        return get_pages(next_page_url, number - 1, result)\n",
    "    else:\n",
    "        return result\n",
    "    \n",
    "starting_url = \"https://www.99.co/singapore/sale?main_category=hdb\"\n",
    "number_of_pages_to_scrape = 2\n",
    "result = get_pages(starting_url, number_of_pages_to_scrape)\n",
    "\n",
    "for res in result:\n",
    "    print(res)"
   ]
  },
  {
   "cell_type": "markdown",
   "metadata": {},
   "source": [
    "# Save to CSV"
   ]
  },
  {
   "cell_type": "code",
   "execution_count": 6,
   "metadata": {},
   "outputs": [],
   "source": [
    "def save_to_csv(data, filename):\n",
    "    with open(filename, 'w', newline='', encoding='utf-8') as csvfile:\n",
    "        writer = csv.writer(csvfile)\n",
    "        # Write header row\n",
    "        writer.writerow(['Title', 'Price', 'Bedrooms', 'Bathrooms', 'Floor Size'])\n",
    "        # Write data rows\n",
    "        writer.writerows(data)\n",
    "\n",
    "starting_url = \"https://www.99.co/singapore/sale?main_category=hdb\"\n",
    "number_of_pages_to_scrape = 2\n",
    "result = get_pages(starting_url, number_of_pages_to_scrape)\n",
    "\n",
    "# Specify the filename for the CSV file\n",
    "csv_filename = \"hdb_listings.csv\"\n",
    "\n",
    "# Save the scraped data into the CSV file\n",
    "save_to_csv(result, csv_filename)"
   ]
  }
 ],
 "metadata": {
  "kernelspec": {
   "display_name": "base",
   "language": "python",
   "name": "python3"
  },
  "language_info": {
   "codemirror_mode": {
    "name": "ipython",
    "version": 3
   },
   "file_extension": ".py",
   "mimetype": "text/x-python",
   "name": "python",
   "nbconvert_exporter": "python",
   "pygments_lexer": "ipython3",
   "version": "3.11.8"
  }
 },
 "nbformat": 4,
 "nbformat_minor": 2
}
