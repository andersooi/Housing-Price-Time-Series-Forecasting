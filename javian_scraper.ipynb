{
 "cells": [
  {
   "cell_type": "markdown",
   "metadata": {},
   "source": [
    "# Website Scrapper"
   ]
  },
  {
   "cell_type": "markdown",
   "metadata": {},
   "source": [
    "# Import all packages"
   ]
  },
  {
   "cell_type": "code",
   "execution_count": 2,
   "metadata": {},
   "outputs": [],
   "source": [
    "import re\n",
    "import requests\n",
    "from bs4 import BeautifulSoup\n",
    "\n",
    "from selenium import webdriver\n",
    "from selenium.webdriver.common.by import By\n",
    "from selenium.webdriver.support.ui import WebDriverWait\n",
    "from selenium.webdriver.support import expected_conditions as EC\n",
    "\n",
    "import csv"
   ]
  },
  {
   "cell_type": "markdown",
   "metadata": {},
   "source": [
    "# Scrap a Single Page\n",
    "- Using beautiful soup.\n",
    "- Exract the following properties\n",
    "    - heading\n",
    "    - pricing\n",
    "    - numberOfBedrooms = container.find(itemprop=\"numberOfBedrooms\")\n",
    "    - numberOfBathrooms\n",
    "    - floorSize = container.find(itemprop=\"floorSize\")"
   ]
  },
  {
   "cell_type": "code",
   "execution_count": 57,
   "metadata": {},
   "outputs": [],
   "source": [
    "def scrape_page(url):\n",
    "    headers = {\n",
    "        'User-Agent': 'Mozilla/5.0 (Windows NT 10.0; Win64; x64) AppleWebKit/537.36 (KHTML, like Gecko) Chrome/58.0.3029.110 Safari/537.3'\n",
    "    }\n",
    "    response = requests.get(url, headers=headers)\n",
    "\n",
    "    # Check if the request was successful\n",
    "    if response.status_code == 200:\n",
    "        # Parse the HTML content\n",
    "        soup = BeautifulSoup(response.content, 'html.parser')\n",
    "        containers = soup.find_all(class_=re.compile(r'ListItemCard_container__[a-zA-Z0-9]+'))\n",
    "        all_buildings = []\n",
    "        \n",
    "        for container in containers:\n",
    "            # Within each container, find the heading with the specified class pattern\n",
    "            heading = container.find(class_=re.compile(r'CellHeading_heading__[a-zA-Z0-9]+'))\n",
    "            pricing = container.find(class_=re.compile(r'CellPrice_text__[a-zA-Z0-9]+'))\n",
    "            numberOfBedrooms = container.find(itemprop=\"numberOfBedrooms\")\n",
    "            numberOfBathroomsTotal = container.find(itemprop=\"numberOfBathroomsTotal\")\n",
    "            floorSize = container.find(itemprop=\"floorSize\")\n",
    "            \n",
    "            if heading:\n",
    "                templist = []\n",
    "                templist.append(heading.text.strip())\n",
    "                templist.append(pricing.text.strip())\n",
    "                templist.append(numberOfBedrooms.text.strip())\n",
    "                templist.append(numberOfBathroomsTotal.text.strip())\n",
    "                templist.append(floorSize.text.strip())\n",
    "                all_buildings.append(templist)\n",
    "\n",
    "        return all_buildings\n",
    "    else:\n",
    "        print(\"Failed to retrieve page:\", response.status_code)"
   ]
  },
  {
   "cell_type": "markdown",
   "metadata": {},
   "source": [
    "# Selenium to navigate page\n",
    "\n",
    "- Unable to find the href of the next page.\n",
    "- Using Selenium to force locate the next page."
   ]
  },
  {
   "cell_type": "code",
   "execution_count": 54,
   "metadata": {},
   "outputs": [],
   "source": [
    "def get_next_page_url(url):\n",
    "    # Create a WebDriver instance (assuming you have Chrome installed)\n",
    "    driver = webdriver.Chrome()\n",
    "\n",
    "    try:\n",
    "        # Load the webpage\n",
    "        driver.get(url)\n",
    "\n",
    "        # Find the \"Next page\" button element\n",
    "        next_page_button = WebDriverWait(driver, 10).until(\n",
    "            EC.visibility_of_element_located((By.XPATH, '//a[@aria-label=\"Next page\"]'))\n",
    "        )\n",
    "\n",
    "        # Click the \"Next page\" button\n",
    "        next_page_button.click()\n",
    "\n",
    "        # Retrieve the URL of the next page\n",
    "        next_page_url = driver.current_url\n",
    "        return next_page_url\n",
    "\n",
    "    finally:\n",
    "        # Close the WebDriver\n",
    "        driver.quit()0"
   ]
  },
  {
   "cell_type": "markdown",
   "metadata": {},
   "source": [
    "# Search a few pages automatically"
   ]
  },
  {
   "cell_type": "code",
   "execution_count": 59,
   "metadata": {},
   "outputs": [
    {
     "name": "stdout",
     "output_type": "stream",
     "text": [
      "['3 Room HDB in 116 Pending Road', '$410,000', '2 Beds', '2 Baths', '786 sqft / 73.02 sqm']\n",
      "['2 Room HDB in 76 Telok Blangah Drive', '$320,000', '1 Bed', '1 Bath', '474 sqft / 44.04 sqm']\n",
      "['4 Room HDB in 623 Jurong West Street 61', '$488,000', '3 Beds', '2 Baths', '979 sqft / 90.95 sqm']\n",
      "['3 Room HDB in 728 Clementi West Street 2', '$398,000', '2 Beds', '2 Baths', '732 sqft / 68 sqm']\n",
      "['4 Room HDB in 93B Telok Blangah Street 31', '$980,000', '3 Beds', '2 Baths', '1,001 sqft / 93 sqm']\n",
      "['4 Room HDB in 811A Choa Chu Kang Avenue 7', '$586,000', '3 Beds', '2 Baths', '1,001 sqft / 93 sqm']\n",
      "['4 Bed HDB in 229 Choa Chu Kang Central', '$590,000', '4 Beds', '2 Baths', '1,313 sqft / 121.98 sqm']\n",
      "['5 Room HDB in 297 Yishun Street 20', '$658,000', '3 Beds', '2 Baths', '1,205 sqft / 111.95 sqm']\n",
      "['5 Room HDB in 309A Ang Mo Kio Street 31', '$1,200,000', '3 Beds', '2 Baths', '1,184 sqft / 110 sqm']\n",
      "['3 Room HDB in 6 Holland Close', '$580,000', '2 Beds', '1 Bath', '786 sqft / 73.02 sqm']\n",
      "['4 Room HDB in 439B Bukit Batok West Avenue 8', '$648,000', '3 Beds', '2 Baths', '1,001 sqft / 93 sqm']\n",
      "['3 Room HDB in 94 Commonwealth Drive', '$358,000', '2 Beds', '1 Bath', '645 sqft / 59.92 sqm']\n",
      "['4 Room HDB in 418 Fajar Road', '$520,000', '3 Beds', '2 Baths', '1,119 sqft / 103.96 sqm']\n",
      "['Exec HDB in 239 Pasir Ris Street 21', '$900,000', '4 Beds', '2 Baths', '1,636 sqft / 151.99 sqm']\n",
      "['4 Room HDB in 83A Circuit Road', '$1,038,000', '3 Beds', '2 Baths', '1,033 sqft / 95.97 sqm']\n",
      "['5 Room HDB in 13 Dover Close East', '$940,000', '3 Beds', '2 Baths', '1,259 sqft / 116.96 sqm']\n",
      "['3 Room HDB in 157 Lorong 1 Toa Payoh', '$438,000', '3 Beds', '2 Baths', '700 sqft / 65.03 sqm']\n",
      "['5 Room HDB in 769 Bedok Reservoir View', '$798,000', '3 Beds', '2 Baths', '1,238 sqft / 115.01 sqm']\n",
      "['4 Room HDB in 668B Jurong West Street 64', '$520,000', '3 Beds', '2 Baths', '915 sqft / 85.01 sqm']\n",
      "['3 Room HDB in 471 Ang Mo Kio Avenue 10', '$399,000', '2 Beds', '2 Baths', '721 sqft / 66.98 sqm']\n",
      "['4 Room HDB in 56 Havelock Road', '$888,000', '2 Beds', '2 Baths', '1,012 sqft / 94.02 sqm']\n",
      "['Exec HDB in 539 Hougang Street 52', '$900,000', '4 Beds', '3 Baths', '1,614 sqft / 149.95 sqm']\n",
      "['4 Room HDB in 998A Buangkok Crescent', '$690,000', '2 Beds', '2 Baths', '1,012 sqft / 94.02 sqm']\n",
      "['4 Room HDB in 443B Bukit Batok West Avenue 8', '$650,000', '3 Beds', '2 Baths', '990 sqft / 91.97 sqm']\n",
      "['Exec HDB in 162 Yung Ping Road', '$900,000', '3 Beds', '2 Baths', '1,593 sqft / 147.99 sqm']\n",
      "['4 Room HDB in 220B Sumang Lane', '$628,000', '3 Beds', '2 Baths', '1,001 sqft / 93 sqm']\n",
      "['3 Room HDB in 333 Ubi Avenue 1', '$880,000', '3 Beds', '3 Baths', '1,571 sqft / 145.95 sqm']\n",
      "['3 Room HDB in 261 Toa Payoh East', '$999,999', '3 Beds', '2 Baths', '1,001 sqft / 93 sqm']\n",
      "['4 Room HDB in 132 Edgedale Plains', '$550,000', '3 Beds', '2 Baths', '980 sqft / 91.04 sqm']\n",
      "['5 Room HDB in 311A Anchorvale Lane', '$699,999', '3 Beds', '2 Baths', '1,298 sqft / 120.59 sqm']\n",
      "['3 Room HDB in 210 Boon Lay Place', '$340,000', '2 Beds', '1 Bath', '700 sqft / 65.03 sqm']\n",
      "['4 Room HDB in 687B Woodlands Drive 75', '$570,000', '3 Beds', '2 Baths', '1,012 sqft / 94.02 sqm']\n",
      "['Exec HDB in 290B Bukit Batok Street 24', '$998,000', '3 Beds', '2 Baths', '1,518 sqft / 141.03 sqm']\n",
      "['3 Room HDB in 421 Clementi Avenue 1', '$788,000', '3 Beds', '2 Baths', '990 sqft / 91.97 sqm']\n",
      "['3 Room HDB in 323A Sumang Walk', '$830,000', '3 Beds', '2 Baths', '1,216 sqft / 112.97 sqm']\n",
      "['5 Room HDB in 804 Yishun Ring Road', '$697,000', '4 Beds', '2 Baths', '1,302 sqft / 120.96 sqm']\n",
      "['5 Room HDB in 59A Geylang Bahru', '$998,000', '3 Beds', '2 Baths', '1,292 sqft / 120.03 sqm']\n",
      "['4 Room HDB in 262 Toa Payoh East', '$1,090,000', '3 Beds', '2 Baths', '1,001 sqft / 93 sqm']\n",
      "['3 Room HDB in 271 Queen Street', '$550,000', '2 Beds', '1 Bath', '645 sqft / 59.92 sqm']\n",
      "['5 Room HDB in 135 Serangoon North Avenue 2', '$800,000', '3 Beds', '2 Baths', '1,302 sqft / 120.96 sqm']\n",
      "['Exec HDB in 189C Rivervale Drive', '$758,888', '4 Beds', '2 Baths', '1,410 sqft / 130.99 sqm']\n",
      "['4 Room HDB in 55 Teban Gardens Road', '$690,000', '3 Beds', '2 Baths', '990 sqft / 91.97 sqm']\n",
      "['3 Room HDB in 217B Boon Lay Avenue', '$455,000', '2 Beds', '2 Baths', '732 sqft / 68 sqm']\n",
      "['4 Room HDB in 117B Jalan Tenteram', '$900,000', '3 Beds', '2 Baths', '1,001 sqft / 93 sqm']\n",
      "['4 Room HDB in 442A Bukit Batok West Avenue 8', '$689,000', '3 Beds', '2 Baths', '1,237 sqft / 114.92 sqm']\n",
      "['4 Room HDB in 742 Tampines Street 72', '$618,000', '3 Beds', '2 Baths', '1,086 sqft / 100.89 sqm']\n",
      "['4 Room HDB in 261 Toa Payoh East', '$1,020,000', '3 Beds', '2 Baths', '1,001 sqft / 93 sqm']\n",
      "['3 Room HDB in 35 Bedok South Avenue 2', '$540,000', '3 Beds', '2 Baths', '968 sqft / 89.93 sqm']\n",
      "['4 Room HDB in 404 Fajar Road', '$498,888', '3 Beds', '2 Baths', '1,119 sqft / 103.96 sqm']\n",
      "['3 Room HDB in 808C Choa Chu Kang Avenue 1', '$608,000', '3 Beds', '2 Baths', '990 sqft / 91.97 sqm']\n",
      "['2 Room HDB in 150A Corporation Drive', '$350,000', '1 Bed', '1 Bath', '505 sqft / 46.92 sqm']\n",
      "['5 Room HDB in 338 Tampines Street 33', '$668,000', '3 Beds', '2 Baths', '1,335 sqft / 124.03 sqm']\n",
      "['3 Room HDB in 45 Sims Drive', '$408,000', '2 Beds', '1 Bath', '699 sqft / 64.94 sqm']\n",
      "['5 Room HDB in 801A Keat Hong Close', '$650,000', '3 Beds', '2 Baths', '1,215 sqft / 112.88 sqm']\n",
      "['3 Room HDB in 997A Buangkok Crescent', '$655,000', '3 Beds', '2 Baths', '1,001 sqft / 93 sqm']\n",
      "['3 Room HDB in 904 Jurong West Street 91', '$395,000', '2 Beds', '2 Baths', '786 sqft / 73.02 sqm']\n",
      "['Exec HDB in 360 Yishun Ring Road', '$866,000', '4 Beds', '2 Baths', '1,528 sqft / 141.96 sqm']\n",
      "['4 Room HDB in 510 Hougang Avenue 10', '$699,000', '3 Beds', '2 Baths', '1,119 sqft / 103.96 sqm']\n",
      "['5 Room HDB in 94 Havelock Road', '$1,200,000', '3 Beds', '2 Baths', '1,270 sqft / 117.99 sqm']\n",
      "['Exec HDB in 578 Hougang Avenue 4', '$1,150,000', '4 Beds', '3 Baths', '1,507 sqft / 140 sqm']\n",
      "['5 Room HDB in 314 Jurong East Street 32', '$654,999', '4 Beds', '2 Baths', '1,420 sqft / 131.92 sqm']\n",
      "['4 Room HDB in 184A Woodlands Street 13', '$599,999', '3 Beds', '2 Baths', '1,001 sqft / 93 sqm']\n",
      "['3 Room HDB in 120 Ho Ching Road', '$330,000', '2 Beds', '2 Baths', '721 sqft / 66.98 sqm']\n",
      "['3 Bed HDB in 715 Tampines Street 71', '$568,000', '3 Beds', '2 Baths', '1,076 sqft / 99.96 sqm']\n",
      "['4 Room HDB in 276 Toh Guan Road', '$638,888', '3 Beds', '2 Baths', '1,109 sqft / 103.03 sqm']\n",
      "['4 Room HDB in 268C Compassvale Link', '$645,000', '3 Beds', '2 Baths', '979 sqft / 90.95 sqm']\n",
      "['4 Room HDB in 449B Bukit Batok West Avenue 9', '$620,000', '3 Beds', '2 Baths', '1,001 sqft / 93 sqm']\n",
      "['4 Room HDB in 914 Jurong West Street 91', '$499,000', '3 Beds', '2 Baths', '1,109 sqft / 103.03 sqm']\n",
      "['4 Room HDB in 119 Bedok North Road', '$512,888', '3 Beds', '2 Baths', '990 sqft / 91.97 sqm']\n",
      "['4 Room HDB in 602 Hougang Avenue 4', '$600,000', '3 Beds', '2 Baths', '1,119 sqft / 103.96 sqm']\n"
     ]
    }
   ],
   "source": [
    "def get_pages(url, number, result=[]):\n",
    "    if number <= 0:\n",
    "        return result\n",
    "    \n",
    "    result += scrape_page(url)\n",
    "    next_page_url = get_next_page_url(url)\n",
    "    \n",
    "    if next_page_url:\n",
    "        return get_pages(next_page_url, number - 1, result)\n",
    "    else:\n",
    "        return result\n",
    "    \n",
    "starting_url = \"https://www.99.co/singapore/sale?main_category=hdb\"\n",
    "number_of_pages_to_scrape = 2\n",
    "result = get_pages(starting_url, number_of_pages_to_scrape)\n",
    "\n",
    "for res in result:\n",
    "    print(res)"
   ]
  },
  {
   "cell_type": "markdown",
   "metadata": {},
   "source": [
    "# Save to CSV"
   ]
  },
  {
   "cell_type": "code",
   "execution_count": null,
   "metadata": {},
   "outputs": [],
   "source": [
    "def save_to_csv(data, filename):\n",
    "    with open(filename, 'w', newline='', encoding='utf-8') as csvfile:\n",
    "        writer = csv.writer(csvfile)\n",
    "        # Write header row\n",
    "        writer.writerow(['Title', 'Price', 'Bedrooms', 'Bathrooms', 'Floor Size'])\n",
    "        # Write data rows\n",
    "        writer.writerows(data)\n",
    "\n",
    "starting_url = \"https://www.99.co/singapore/sale?main_category=hdb\"\n",
    "number_of_pages_to_scrape = 2\n",
    "result = get_pages(starting_url, number_of_pages_to_scrape)\n",
    "\n",
    "# Specify the filename for the CSV file\n",
    "csv_filename = \"hdb_listings.csv\"\n",
    "\n",
    "# Save the scraped data into the CSV file\n",
    "save_to_csv(result, csv_filename)"
   ]
  }
 ],
 "metadata": {
  "kernelspec": {
   "display_name": "base",
   "language": "python",
   "name": "python3"
  },
  "language_info": {
   "codemirror_mode": {
    "name": "ipython",
    "version": 3
   },
   "file_extension": ".py",
   "mimetype": "text/x-python",
   "name": "python",
   "nbconvert_exporter": "python",
   "pygments_lexer": "ipython3",
   "version": "3.11.8"
  }
 },
 "nbformat": 4,
 "nbformat_minor": 2
}
