{
 "cells": [
  {
   "cell_type": "code",
   "execution_count": 2,
   "metadata": {},
   "outputs": [],
   "source": [
    "import pandas as pd\n",
    "import numpy as np\n",
    "import matplotlib.pyplot as plt\n",
    "from sklearn.ensemble import RandomForestClassifier\n",
    "from sklearn.model_selection import train_test_split, KFold, cross_val_score\n",
    "from sklearn.metrics import accuracy_score, precision_score, recall_score, roc_auc_score, confusion_matrix, r2_score, root_mean_squared_error"
   ]
  },
  {
   "cell_type": "code",
   "execution_count": null,
   "metadata": {},
   "outputs": [],
   "source": [
    "df = pd.read_csv('') #tbc\n",
    "df.replace({np.nan: None})\n",
    "df.head()\n",
    "pred_set = []\n",
    "pred_target = []"
   ]
  },
  {
   "cell_type": "code",
   "execution_count": null,
   "metadata": {},
   "outputs": [],
   "source": [
    "X = df.loc[:, df.columns != 'resale_price'] #tbc\n",
    "y = df.loc[:, 'resale_price']"
   ]
  },
  {
   "cell_type": "code",
   "execution_count": null,
   "metadata": {},
   "outputs": [],
   "source": [
    "X_train, X_test, y_train, y_test = train_test_split(X, y, test_size=0.2, random_state=42)"
   ]
  },
  {
   "cell_type": "code",
   "execution_count": null,
   "metadata": {},
   "outputs": [],
   "source": [
    "rf = RandomForestClassifier(random_state = 42)\n",
    "rf.fit(X_train, y_train)\n",
    "rf.score(X_test, y_test)"
   ]
  },
  {
   "cell_type": "code",
   "execution_count": null,
   "metadata": {},
   "outputs": [],
   "source": [
    "kf = KFold(n_splits = 10)\n",
    "scores = cross_val_score(rf, X, y, cv = kf, scoring='r2') \n",
    "print(\"Cross Validation Scores: \", scores)\n",
    "print(\"R2 Score: \", scores.mean())"
   ]
  },
  {
   "cell_type": "code",
   "execution_count": null,
   "metadata": {},
   "outputs": [],
   "source": [
    "scores1 = cross_val_score(RandomForestClassifier(n_estimators=5),X, y, cv=10)\n",
    "np.average(scores1)\n",
    "scores2 = cross_val_score(RandomForestClassifier(n_estimators=10),X, y, cv=10)\n",
    "np.average(scores2)\n",
    "scores3 = cross_val_score(RandomForestClassifier(n_estimators=30),X, y, cv=10)\n",
    "np.average(scores3)\n",
    "scores4 = cross_val_score(RandomForestClassifier(n_estimators=40),X, y, cv=10)\n",
    "np.average(scores4)"
   ]
  },
  {
   "cell_type": "code",
   "execution_count": null,
   "metadata": {},
   "outputs": [],
   "source": [
    "prediction = rf.predict(pred_set)"
   ]
  },
  {
   "cell_type": "code",
   "execution_count": null,
   "metadata": {},
   "outputs": [],
   "source": [
    "r2 = r2_score(pred_target, prediction)\n",
    "rmse = root_mean_squared_error(pred_target, prediction)\n",
    "print(\"R2 score of Random Forest:\", r2)\n",
    "print(\"Root Mean Squared Error of Random Forest:\", rmse)"
   ]
  },
  {
   "cell_type": "code",
   "execution_count": null,
   "metadata": {},
   "outputs": [],
   "source": [
    "accuracy = accuracy_score(pred_target, prediction)\n",
    "precision = precision_score(pred_target, prediction)\n",
    "recall = recall_score(pred_target, prediction)\n",
    "roc_auc = roc_auc_score(pred_target, prediction)\n",
    "cm = confusion_matrix(pred_target, prediction)\n",
    "print(\"Accuracy of Random Forest:\", accuracy)\n",
    "print(\"Precision of Random Forest:\", precision)\n",
    "print(\"Tecall of Random Forest:\", recall)\n",
    "print(\"ROC AUC of Random Forest:\", roc_auc)\n",
    "print(f\"Confusion Matrix for Random Forest:\\n{cm}\")"
   ]
  },
  {
   "cell_type": "code",
   "execution_count": null,
   "metadata": {},
   "outputs": [],
   "source": [
    "importance = rf.feature_importances_\n",
    "feature_importances = zip(importance, X.columns)\n",
    "sorted_feature_importances = sorted(feature_importances, reverse = True)\n",
    "\n",
    "top_15_predictors = sorted_feature_importances[0:15]\n",
    "values = [value for value, predictors in top_15_predictors]\n",
    "predictors = [predictors for value, predictors in top_15_predictors]\n",
    "print(predictors)"
   ]
  },
  {
   "cell_type": "code",
   "execution_count": null,
   "metadata": {},
   "outputs": [],
   "source": [
    "plt.figure()\n",
    "plt.title(\"Feature importances\")\n",
    "plt.bar(range(len(predictors)), values,color=\"r\", align=\"center\")\n",
    "plt.xticks(range(len(predictors)), predictors, rotation=90)"
   ]
  }
 ],
 "metadata": {
  "kernelspec": {
   "display_name": "Python 3",
   "language": "python",
   "name": "python3"
  },
  "language_info": {
   "codemirror_mode": {
    "name": "ipython",
    "version": 3
   },
   "file_extension": ".py",
   "mimetype": "text/x-python",
   "name": "python",
   "nbconvert_exporter": "python",
   "pygments_lexer": "ipython3",
   "version": "3.12.2"
  }
 },
 "nbformat": 4,
 "nbformat_minor": 2
}
